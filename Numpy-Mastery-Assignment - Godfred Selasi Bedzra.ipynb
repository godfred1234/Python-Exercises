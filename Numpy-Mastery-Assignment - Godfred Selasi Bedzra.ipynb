{
 "cells": [
  {
   "cell_type": "markdown",
   "id": "c0561a04",
   "metadata": {},
   "source": [
    "### Numpy Mastery Assignment\n",
    "- Answer all questions\n",
    "- Submission : 20th September 2022"
   ]
  },
  {
   "cell_type": "markdown",
   "id": "e04a249e",
   "metadata": {},
   "source": [
    "1. Create a 1D array of numbers from 0 to 9"
   ]
  },
  {
   "cell_type": "code",
   "execution_count": 1,
   "id": "184cc3d6",
   "metadata": {},
   "outputs": [],
   "source": [
    "import numpy as np"
   ]
  },
  {
   "cell_type": "code",
   "execution_count": 2,
   "id": "681f9410",
   "metadata": {
    "scrolled": false
   },
   "outputs": [
    {
     "data": {
      "text/plain": [
       "array([0, 1, 2, 3, 4, 5, 6, 7, 8, 9])"
      ]
     },
     "execution_count": 2,
     "metadata": {},
     "output_type": "execute_result"
    }
   ],
   "source": [
    "arr_1_dm = np.array([0, 1, 2, 3, 4, 5, 6, 7, 8, 9])\n",
    "arr_1_dm"
   ]
  },
  {
   "cell_type": "markdown",
   "id": "f3b8a05e",
   "metadata": {},
   "source": [
    "2. Create a 3x3 numpy of all True "
   ]
  },
  {
   "cell_type": "code",
   "execution_count": 3,
   "id": "7b375bad",
   "metadata": {},
   "outputs": [
    {
     "data": {
      "text/plain": [
       "array([[ True,  True,  True],\n",
       "       [ True,  True,  True],\n",
       "       [ True,  True,  True]])"
      ]
     },
     "execution_count": 3,
     "metadata": {},
     "output_type": "execute_result"
    }
   ],
   "source": [
    "arr_3_dm = np.array([[True, True, True],[True, True, True], [True, True, True]])\n",
    "arr_3_dm"
   ]
  },
  {
   "cell_type": "markdown",
   "id": "9bf76467",
   "metadata": {},
   "source": [
    "3. Create an array of numbers from 20 to 39"
   ]
  },
  {
   "cell_type": "code",
   "execution_count": 4,
   "id": "252377ab",
   "metadata": {},
   "outputs": [
    {
     "data": {
      "text/plain": [
       "array([20, 21, 22, 23, 24, 25, 26, 27, 28, 29, 30, 31, 32, 33, 34, 35, 36,\n",
       "       37, 38, 39])"
      ]
     },
     "execution_count": 4,
     "metadata": {},
     "output_type": "execute_result"
    }
   ],
   "source": [
    "num_20_to_39 = np.arange(20, 40)\n",
    "num_20_to_39"
   ]
  },
  {
   "cell_type": "markdown",
   "id": "c68a12af",
   "metadata": {},
   "source": [
    "4. Replace all odd numbers in Q3 by -1"
   ]
  },
  {
   "cell_type": "code",
   "execution_count": 5,
   "id": "3ef2e6e0",
   "metadata": {},
   "outputs": [
    {
     "data": {
      "text/plain": [
       "array([20, -1, 22, -1, 24, -1, 26, -1, 28, -1, 30, -1, 32, -1, 34, -1, 36,\n",
       "       -1, 38, -1])"
      ]
     },
     "execution_count": 5,
     "metadata": {},
     "output_type": "execute_result"
    }
   ],
   "source": [
    "num_20_to_39[num_20_to_39 % 2 == 1] = -1 \n",
    "num_20_to_39"
   ]
  },
  {
   "cell_type": "markdown",
   "id": "6bb94688",
   "metadata": {},
   "source": [
    "5. Create two arrays of length 10 and print out  common items in both arrays"
   ]
  },
  {
   "cell_type": "code",
   "execution_count": 6,
   "id": "05a99c85",
   "metadata": {},
   "outputs": [
    {
     "data": {
      "text/plain": [
       "array([19, 33])"
      ]
     },
     "execution_count": 6,
     "metadata": {},
     "output_type": "execute_result"
    }
   ],
   "source": [
    "arr_1 = np.array([10, 11, 23, 19, 56, 12, 88, 17, 33, 33])\n",
    "arr_2 = np.array([5, 33, 16, 19, 22, 77, 65, 90, 15, 29])\n",
    "common = np.intersect1d(arr_1, arr_2)\n",
    "common"
   ]
  },
  {
   "cell_type": "markdown",
   "id": "c4b172be",
   "metadata": {},
   "source": [
    "6.  Create a 5x5 identity matrix"
   ]
  },
  {
   "cell_type": "code",
   "execution_count": 7,
   "id": "e0e11ba4",
   "metadata": {},
   "outputs": [
    {
     "data": {
      "text/plain": [
       "array([[1., 0., 0., 0., 0.],\n",
       "       [0., 1., 0., 0., 0.],\n",
       "       [0., 0., 1., 0., 0.],\n",
       "       [0., 0., 0., 1., 0.],\n",
       "       [0., 0., 0., 0., 1.]])"
      ]
     },
     "execution_count": 7,
     "metadata": {},
     "output_type": "execute_result"
    }
   ],
   "source": [
    "mtx = np.eye(5)\n",
    "mtx"
   ]
  },
  {
   "cell_type": "markdown",
   "id": "0faa0eca",
   "metadata": {},
   "source": [
    "7. In the code cell below define and print a set of arrays defined x, y and z. The array x should be take the form [10 12 9 2 20], y should have  101  values from  10  to  20  inclusive and z should be a  2×3  array of ones."
   ]
  },
  {
   "cell_type": "code",
   "execution_count": 8,
   "id": "37688a80",
   "metadata": {},
   "outputs": [
    {
     "name": "stdout",
     "output_type": "stream",
     "text": [
      "[10 12  9  2 20]\n",
      "[10 11 12 13 14 15 16 17 18 19 20]\n",
      "[[1. 1. 1.]\n",
      " [1. 1. 1.]]\n"
     ]
    }
   ],
   "source": [
    "x = np.array([10, 12, 9, 2, 20])\n",
    "y = np.arange(10, 21)\n",
    "z = np.ones((2, 3))\n",
    "\n",
    "print(x)\n",
    "print(y)\n",
    "print(z)"
   ]
  },
  {
   "cell_type": "markdown",
   "id": "76aaeb7c",
   "metadata": {},
   "source": [
    "8.Using the available Numpy functions on array x from problem  7 , find the average and the standard deviation of the value in this array. Redefine x as an array with all these values sorted in numerical order."
   ]
  },
  {
   "cell_type": "code",
   "execution_count": 9,
   "id": "2b4e1eee",
   "metadata": {},
   "outputs": [
    {
     "name": "stdout",
     "output_type": "stream",
     "text": [
      "Average 10.6\n",
      "Std 5.782732917920384\n"
     ]
    },
    {
     "data": {
      "text/plain": [
       "array([ 5.78273292, 10.6       ])"
      ]
     },
     "execution_count": 9,
     "metadata": {},
     "output_type": "execute_result"
    }
   ],
   "source": [
    "x_avg = np.average(x)\n",
    "x_std = np.std(x)\n",
    "\n",
    "print(\"Average\", x_avg)\n",
    "print(\"Std\", x_std)\n",
    "\n",
    "x = np.array([x_std, x_avg])\n",
    "x"
   ]
  },
  {
   "cell_type": "markdown",
   "id": "1b592987",
   "metadata": {},
   "source": [
    "9. Create a 10x10 array with random values and find the minimum and maximum values"
   ]
  },
  {
   "cell_type": "code",
   "execution_count": 10,
   "id": "7cb94b9f",
   "metadata": {},
   "outputs": [
    {
     "name": "stdout",
     "output_type": "stream",
     "text": [
      "[[24 22 65 38 10 38  1 49 53 55]\n",
      " [59 17 31 14 44 92 38 51 33 79]\n",
      " [ 0 89  0 16 95 90 69 21  4 88]\n",
      " [79 91 57 25 95 32 69 50 45 37]\n",
      " [74 70 92 34 45 37 89 44 21 43]\n",
      " [67 58 51 76 14 69 21 86 72  9]\n",
      " [70  1 40 24 81 72 30 26 79 92]\n",
      " [49 66 60 50 62  4 65 62 78 67]\n",
      " [79 44 71  8 14 11 86 31 54 51]\n",
      " [84 67 94 80 89  7 27 14 39 32]]\n",
      "Min: 0 Max: 95\n"
     ]
    }
   ],
   "source": [
    "arr = np.random.randint(low=0, high=100, size=(10, 10))\n",
    "print(arr)\n",
    "\n",
    "xmin, xmax = arr.min(), arr.max()\n",
    "print(\"Min:\", xmin, \"Max:\", xmax)"
   ]
  },
  {
   "cell_type": "markdown",
   "id": "4e3bcb2c",
   "metadata": {},
   "source": [
    "10. Create a 3x3 matrix with values ranging from 0 to 8"
   ]
  },
  {
   "cell_type": "code",
   "execution_count": 11,
   "id": "ea7af42f",
   "metadata": {},
   "outputs": [
    {
     "name": "stdout",
     "output_type": "stream",
     "text": [
      "[[0 1 2]\n",
      " [3 4 5]\n",
      " [6 7 8]]\n"
     ]
    }
   ],
   "source": [
    "arr = np.arange(9).reshape(3, 3)\n",
    "print(arr)"
   ]
  },
  {
   "cell_type": "markdown",
   "id": "21052f20",
   "metadata": {},
   "source": [
    "11.  Generates an array [[1 2 3] [4 5 6]]"
   ]
  },
  {
   "cell_type": "code",
   "execution_count": 12,
   "id": "af75802f",
   "metadata": {},
   "outputs": [
    {
     "name": "stdout",
     "output_type": "stream",
     "text": [
      "[[1 2 3]\n",
      " [4 5 6]]\n"
     ]
    }
   ],
   "source": [
    "arr = np.array([[1, 2, 3], [4, 5, 6]])\n",
    "print(arr)"
   ]
  },
  {
   "cell_type": "markdown",
   "id": "67633962",
   "metadata": {},
   "source": [
    "12. Generates an array [0 2.5 5 7.5 10]"
   ]
  },
  {
   "cell_type": "code",
   "execution_count": 13,
   "id": "a03f6a45",
   "metadata": {},
   "outputs": [
    {
     "name": "stdout",
     "output_type": "stream",
     "text": [
      "[ 0.   2.5  5.   7.5 10. ]\n"
     ]
    }
   ],
   "source": [
    "arr = np.array([0,2.5, 5, 7.5, 10])\n",
    "print(arr)"
   ]
  },
  {
   "cell_type": "markdown",
   "id": "2ac6248c",
   "metadata": {},
   "source": [
    "13. Generates an 3x3 array of zeros"
   ]
  },
  {
   "cell_type": "code",
   "execution_count": 14,
   "id": "7f789e0d",
   "metadata": {},
   "outputs": [
    {
     "name": "stdout",
     "output_type": "stream",
     "text": [
      "[[0. 0. 0.]\n",
      " [0. 0. 0.]\n",
      " [0. 0. 0.]]\n"
     ]
    }
   ],
   "source": [
    "arr = np.zeros((3,3))\n",
    "print(arr)"
   ]
  },
  {
   "cell_type": "markdown",
   "id": "248b6aa4",
   "metadata": {},
   "source": [
    "14. Create array from 0.1 to 10 with 12 elements, inclusively"
   ]
  },
  {
   "cell_type": "code",
   "execution_count": 15,
   "id": "0dfb7154",
   "metadata": {},
   "outputs": [
    {
     "name": "stdout",
     "output_type": "stream",
     "text": [
      "[ 0.1  1.   1.9  2.8  3.7  4.6  5.5  6.4  7.3  8.2  9.1 10. ]\n"
     ]
    }
   ],
   "source": [
    "arr = np.linspace(0.1, 10, 12)\n",
    "print(arr)"
   ]
  },
  {
   "cell_type": "markdown",
   "id": "3214f8ed",
   "metadata": {},
   "source": [
    "15. Create a matrix with seven columns and five rows of ten(10)."
   ]
  },
  {
   "cell_type": "code",
   "execution_count": 16,
   "id": "8897cf44",
   "metadata": {},
   "outputs": [
    {
     "name": "stdout",
     "output_type": "stream",
     "text": [
      "[[10 10 10 10 10 10 10]\n",
      " [10 10 10 10 10 10 10]\n",
      " [10 10 10 10 10 10 10]\n",
      " [10 10 10 10 10 10 10]\n",
      " [10 10 10 10 10 10 10]]\n"
     ]
    }
   ],
   "source": [
    "arr = np.full((5, 7), 10)\n",
    "print(arr)"
   ]
  },
  {
   "cell_type": "markdown",
   "id": "14397e1e",
   "metadata": {},
   "source": [
    "16. What is the difference between numpy and list?"
   ]
  },
  {
   "cell_type": "code",
   "execution_count": 17,
   "id": "7bf81ebe",
   "metadata": {},
   "outputs": [],
   "source": [
    "# NumPy is a library for the Python programming language, adding support for large, multi-dimensional arrays and matrices, along with a large collection of high-level mathematical functions to operate on these arrays\n",
    "# List is an in-built data structure to store multiple items in a single variable."
   ]
  },
  {
   "cell_type": "markdown",
   "id": "4fcce8ae",
   "metadata": {},
   "source": [
    "17. Create a 1D array of ones consisting of  50  values. Change the values of the array so that the values alternate between ones and zeros ie  1,0,1,0,1,0,1,0,1...  ensuring that the starting value is  1 "
   ]
  },
  {
   "cell_type": "code",
   "execution_count": 18,
   "id": "8fe48b39",
   "metadata": {},
   "outputs": [
    {
     "data": {
      "text/plain": [
       "array([1., 0., 1., 0., 1., 0., 1., 0., 1., 0., 1., 0., 1., 0., 1., 0., 1.,\n",
       "       0., 1., 0., 1., 0., 1., 0., 1., 0., 1., 0., 1., 0., 1., 0., 1., 0.,\n",
       "       1., 0., 1., 0., 1., 0., 1., 0., 1., 0., 1., 0., 1., 0., 1., 0.])"
      ]
     },
     "execution_count": 18,
     "metadata": {},
     "output_type": "execute_result"
    }
   ],
   "source": [
    "arr = np.ones(50)\n",
    "arr[0]=1\n",
    "arr[1::2] = 0\n",
    "arr"
   ]
  },
  {
   "cell_type": "markdown",
   "id": "4a3a1bab",
   "metadata": {},
   "source": [
    "18. Generate a  10×10  matrix of zeros.\n",
    "Make this matrix an identity matrix"
   ]
  },
  {
   "cell_type": "code",
   "execution_count": 19,
   "id": "b657eeb8",
   "metadata": {},
   "outputs": [
    {
     "name": "stdout",
     "output_type": "stream",
     "text": [
      "[[1. 0. 0. 0. 0. 0. 0. 0. 0. 0.]\n",
      " [0. 1. 0. 0. 0. 0. 0. 0. 0. 0.]\n",
      " [0. 0. 1. 0. 0. 0. 0. 0. 0. 0.]\n",
      " [0. 0. 0. 1. 0. 0. 0. 0. 0. 0.]\n",
      " [0. 0. 0. 0. 1. 0. 0. 0. 0. 0.]\n",
      " [0. 0. 0. 0. 0. 1. 0. 0. 0. 0.]\n",
      " [0. 0. 0. 0. 0. 0. 1. 0. 0. 0.]\n",
      " [0. 0. 0. 0. 0. 0. 0. 1. 0. 0.]\n",
      " [0. 0. 0. 0. 0. 0. 0. 0. 1. 0.]\n",
      " [0. 0. 0. 0. 0. 0. 0. 0. 0. 1.]]\n"
     ]
    }
   ],
   "source": [
    "arr = np.eye((10))\n",
    "print(arr)"
   ]
  },
  {
   "cell_type": "markdown",
   "id": "434544f2",
   "metadata": {},
   "source": [
    "19. Generate an array x to be a  10×10  array of zeros. Redefine its diagonal components (from left to right) to equal one"
   ]
  },
  {
   "cell_type": "code",
   "execution_count": 20,
   "id": "4e344887",
   "metadata": {},
   "outputs": [
    {
     "name": "stdout",
     "output_type": "stream",
     "text": [
      "[[1. 0. 0. 0. 0. 0. 0. 0. 0. 0.]\n",
      " [0. 1. 0. 0. 0. 0. 0. 0. 0. 0.]\n",
      " [0. 0. 1. 0. 0. 0. 0. 0. 0. 0.]\n",
      " [0. 0. 0. 1. 0. 0. 0. 0. 0. 0.]\n",
      " [0. 0. 0. 0. 1. 0. 0. 0. 0. 0.]\n",
      " [0. 0. 0. 0. 0. 1. 0. 0. 0. 0.]\n",
      " [0. 0. 0. 0. 0. 0. 1. 0. 0. 0.]\n",
      " [0. 0. 0. 0. 0. 0. 0. 1. 0. 0.]\n",
      " [0. 0. 0. 0. 0. 0. 0. 0. 1. 0.]\n",
      " [0. 0. 0. 0. 0. 0. 0. 0. 0. 1.]]\n"
     ]
    }
   ],
   "source": [
    "x = np.zeros((10,10))\n",
    "np.fill_diagonal(x,1)\n",
    "print(x)"
   ]
  },
  {
   "cell_type": "markdown",
   "id": "4ff0163c",
   "metadata": {},
   "source": [
    "20. What is the dot products of this two matrix [[1,2],[3,4]] and [[5,6],[7,8]]"
   ]
  },
  {
   "cell_type": "code",
   "execution_count": 21,
   "id": "5a42ea1f",
   "metadata": {},
   "outputs": [
    {
     "data": {
      "text/plain": [
       "array([[19, 22],\n",
       "       [43, 50]])"
      ]
     },
     "execution_count": 21,
     "metadata": {},
     "output_type": "execute_result"
    }
   ],
   "source": [
    "a = np.array([[1,2],[3,4]])\n",
    "b = np.array([[5,6], [7,8]])\n",
    "c = np.dot(a,b)\n",
    "c"
   ]
  },
  {
   "cell_type": "markdown",
   "id": "7b090d8f",
   "metadata": {},
   "source": [
    "21.  Multiply these two matrix [[1,2],[3,4]] and [[5,6],[7,8]]"
   ]
  },
  {
   "cell_type": "code",
   "execution_count": 22,
   "id": "8c3aa1c0",
   "metadata": {},
   "outputs": [
    {
     "data": {
      "text/plain": [
       "array([[ 5, 12],\n",
       "       [21, 32]])"
      ]
     },
     "execution_count": 22,
     "metadata": {},
     "output_type": "execute_result"
    }
   ],
   "source": [
    "a = np.array([[1,2],[3,4]])\n",
    "b = np.array([[5,6], [7,8]])\n",
    "c = a*b\n",
    "c"
   ]
  },
  {
   "cell_type": "markdown",
   "id": "81083127",
   "metadata": {},
   "source": [
    "22. Multiply this matrix  [[1,2],[3,4]] by a  scalar value of 5"
   ]
  },
  {
   "cell_type": "code",
   "execution_count": 23,
   "id": "4d7f2a28",
   "metadata": {},
   "outputs": [
    {
     "data": {
      "text/plain": [
       "array([[ 5, 10],\n",
       "       [15, 20]])"
      ]
     },
     "execution_count": 23,
     "metadata": {},
     "output_type": "execute_result"
    }
   ],
   "source": [
    "scalar = 5\n",
    "a = np.array([[1,2],[3,4]])\n",
    "scalar * a"
   ]
  },
  {
   "cell_type": "markdown",
   "id": "6c8f970c",
   "metadata": {},
   "source": [
    "23. A = [[1,2],[3,4]] and B = transpose of A. Calculate AxB"
   ]
  },
  {
   "cell_type": "code",
   "execution_count": 24,
   "id": "35637c07",
   "metadata": {},
   "outputs": [
    {
     "data": {
      "text/plain": [
       "array([[ 1,  6],\n",
       "       [ 6, 16]])"
      ]
     },
     "execution_count": 24,
     "metadata": {},
     "output_type": "execute_result"
    }
   ],
   "source": [
    "A = np.array([[1,2],[3,4]])\n",
    "B = np.transpose(A)\n",
    "A*B"
   ]
  },
  {
   "cell_type": "markdown",
   "id": "87bc118d",
   "metadata": {},
   "source": [
    "24. A= [[1,2],[3,4]] and B =  [[5,6],[7,8]]. Is A x B = B x A ? Show working"
   ]
  },
  {
   "cell_type": "code",
   "execution_count": 41,
   "id": "3a17e30f",
   "metadata": {},
   "outputs": [
    {
     "name": "stdout",
     "output_type": "stream",
     "text": [
      "[[ 5 12]\n",
      " [21 32]]\n",
      "\n",
      "[[ 5 12]\n",
      " [21 32]]\n"
     ]
    },
    {
     "data": {
      "text/plain": [
       "array([[ True,  True],\n",
       "       [ True,  True]])"
      ]
     },
     "execution_count": 41,
     "metadata": {},
     "output_type": "execute_result"
    }
   ],
   "source": [
    "A = np.array([[1,2],[3,4]])\n",
    "B = np.array([[5,6],[7,8]])\n",
    "C = A*B\n",
    "D = B*A\n",
    "\n",
    "print(C)\n",
    "print()\n",
    "print(D)\n",
    "\n",
    "show_working = C == D\n",
    "\n",
    "show_working.astype(bool)\n",
    "\n",
    "# C = D BECAUSE OF THE COMMUTATIVE PROPERTY OF MULTIPLICATION."
   ]
  },
  {
   "cell_type": "markdown",
   "id": "390f3940",
   "metadata": {},
   "source": [
    "25. Creates an array [[0 1 2] [3 4 5]]\n",
    "- Let A = first row of the matrix\n",
    "- B = second row of the matrix\n",
    "- C = second column of the Matrix\n",
    "- D = first row, third column of the matrix\n",
    "- print A , B , C, D"
   ]
  },
  {
   "cell_type": "code",
   "execution_count": 26,
   "id": "1d69c6df",
   "metadata": {},
   "outputs": [
    {
     "name": "stdout",
     "output_type": "stream",
     "text": [
      "[0 1 2] [3 4 5] [1 4] [2 5]\n"
     ]
    }
   ],
   "source": [
    "ARR = np.array([[0,1,2],[3,4,5]])\n",
    "A = ARR[0,:]\n",
    "B = ARR[1,:]\n",
    "C = ARR[:,1]\n",
    "D = ARR[0:,2]\n",
    "print(A,B,C,D)"
   ]
  },
  {
   "cell_type": "code",
   "execution_count": null,
   "id": "3e154804",
   "metadata": {},
   "outputs": [],
   "source": []
  }
 ],
 "metadata": {
  "kernelspec": {
   "display_name": "Python 3 (ipykernel)",
   "language": "python",
   "name": "python3"
  },
  "language_info": {
   "codemirror_mode": {
    "name": "ipython",
    "version": 3
   },
   "file_extension": ".py",
   "mimetype": "text/x-python",
   "name": "python",
   "nbconvert_exporter": "python",
   "pygments_lexer": "ipython3",
   "version": "3.9.13"
  }
 },
 "nbformat": 4,
 "nbformat_minor": 5
}
