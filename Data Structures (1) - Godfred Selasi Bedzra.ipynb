{
 "cells": [
  {
   "cell_type": "markdown",
   "id": "3c2e90df",
   "metadata": {},
   "source": [
    "### Q1\n",
    "\n",
    "Name the four built-in data structures in python. Give one examples for each"
   ]
  },
  {
   "cell_type": "code",
   "execution_count": 1,
   "id": "a55da86c",
   "metadata": {},
   "outputs": [
    {
     "name": "stdout",
     "output_type": "stream",
     "text": [
      "[1, 2, 3]\n"
     ]
    }
   ],
   "source": [
    "List = [1,2,3]\n",
    "print(List)"
   ]
  },
  {
   "cell_type": "code",
   "execution_count": 3,
   "id": "e54955c3",
   "metadata": {},
   "outputs": [
    {
     "name": "stdout",
     "output_type": "stream",
     "text": [
      "(1, 2, 3)\n"
     ]
    }
   ],
   "source": [
    "Tuples = ((1,2,3))\n",
    "print(Tuples)"
   ]
  },
  {
   "cell_type": "code",
   "execution_count": 4,
   "id": "397b95ec",
   "metadata": {},
   "outputs": [
    {
     "name": "stdout",
     "output_type": "stream",
     "text": [
      "{1, 2, 3}\n"
     ]
    }
   ],
   "source": [
    "Sets = {1,2,3}\n",
    "print(Sets)"
   ]
  },
  {
   "cell_type": "code",
   "execution_count": 5,
   "id": "823713b3",
   "metadata": {},
   "outputs": [
    {
     "name": "stdout",
     "output_type": "stream",
     "text": [
      "{'me': 1, 'him': 2}\n"
     ]
    }
   ],
   "source": [
    "Dictionary = {\"me\": 1,\n",
    "               \"him\": 2}\n",
    "print(Dictionary)"
   ]
  },
  {
   "cell_type": "markdown",
   "id": "b6e1dd1b",
   "metadata": {},
   "source": [
    "### Q2\n",
    "\n",
    "State two differences between a list and a tuple in Python."
   ]
  },
  {
   "cell_type": "markdown",
   "id": "6251797f",
   "metadata": {},
   "source": [
    "## LIST\n",
    "### 1. They are mutable\n",
    "### 2. Consumes more memory\n",
    "\n",
    "## TUPLE\n",
    "### 1. They are immutable\n",
    "### 2. Consumes less memory"
   ]
  },
  {
   "cell_type": "markdown",
   "id": "815b4e67",
   "metadata": {},
   "source": [
    "### Q3\n",
    "Make a list containing names of five animals with a variable name `animal_list`\n",
    "\n",
    "Write a code for the following:\n",
    "- Print the first two animals\n",
    "- Print the last two animals\n",
    "- Add three extra animals to the variable `animal_list`\n",
    "- Remove the first two animals from the variable `animal_list`\n",
    "- How many animals are in the `animal_list`?\n",
    "- Create a variable animal_set which stores the set of animal_list \n",
    "- How many elements are in the animal_set?\n"
   ]
  },
  {
   "cell_type": "code",
   "execution_count": 6,
   "id": "754681db",
   "metadata": {},
   "outputs": [
    {
     "name": "stdout",
     "output_type": "stream",
     "text": [
      "['cat', 'rat', 'dog', 'cow', 'bird']\n"
     ]
    }
   ],
   "source": [
    "animal_list = [\"cat\",\"rat\",\"dog\",\"cow\",\"bird\"]\n",
    "print(animal_list)"
   ]
  },
  {
   "cell_type": "code",
   "execution_count": 7,
   "id": "85073d86",
   "metadata": {},
   "outputs": [
    {
     "name": "stdout",
     "output_type": "stream",
     "text": [
      "['cat', 'rat']\n"
     ]
    }
   ],
   "source": [
    "print(animal_list[0:2])"
   ]
  },
  {
   "cell_type": "code",
   "execution_count": 10,
   "id": "7a9cb445",
   "metadata": {},
   "outputs": [
    {
     "name": "stdout",
     "output_type": "stream",
     "text": [
      "['cow', 'bird']\n"
     ]
    }
   ],
   "source": [
    "print(animal_list[-2:])"
   ]
  },
  {
   "cell_type": "code",
   "execution_count": 11,
   "id": "bed93c27",
   "metadata": {},
   "outputs": [],
   "source": [
    "animal_list.append(\"sheep\")"
   ]
  },
  {
   "cell_type": "code",
   "execution_count": 12,
   "id": "4d2f9966",
   "metadata": {},
   "outputs": [],
   "source": [
    "animal_list.append(\"goat\")"
   ]
  },
  {
   "cell_type": "code",
   "execution_count": 16,
   "id": "12763395",
   "metadata": {},
   "outputs": [],
   "source": [
    "animal_list.append(\"horse\")"
   ]
  },
  {
   "cell_type": "code",
   "execution_count": 17,
   "id": "4b354310",
   "metadata": {},
   "outputs": [
    {
     "data": {
      "text/plain": [
       "['cat', 'rat', 'dog', 'cow', 'bird', 'sheep', 'goat', 'horse']"
      ]
     },
     "execution_count": 17,
     "metadata": {},
     "output_type": "execute_result"
    }
   ],
   "source": [
    "animal_list"
   ]
  },
  {
   "cell_type": "code",
   "execution_count": 19,
   "id": "de757126",
   "metadata": {},
   "outputs": [
    {
     "data": {
      "text/plain": [
       "'cat'"
      ]
     },
     "execution_count": 19,
     "metadata": {},
     "output_type": "execute_result"
    }
   ],
   "source": [
    "animal_list.pop(0)"
   ]
  },
  {
   "cell_type": "code",
   "execution_count": 20,
   "id": "237d8500",
   "metadata": {},
   "outputs": [
    {
     "data": {
      "text/plain": [
       "'rat'"
      ]
     },
     "execution_count": 20,
     "metadata": {},
     "output_type": "execute_result"
    }
   ],
   "source": [
    "animal_list.pop(0)"
   ]
  },
  {
   "cell_type": "code",
   "execution_count": 21,
   "id": "53609fc3",
   "metadata": {},
   "outputs": [
    {
     "data": {
      "text/plain": [
       "['dog', 'cow', 'bird', 'sheep', 'goat', 'horse']"
      ]
     },
     "execution_count": 21,
     "metadata": {},
     "output_type": "execute_result"
    }
   ],
   "source": [
    "animal_list"
   ]
  },
  {
   "cell_type": "code",
   "execution_count": 22,
   "id": "1a546cdc",
   "metadata": {},
   "outputs": [
    {
     "data": {
      "text/plain": [
       "6"
      ]
     },
     "execution_count": 22,
     "metadata": {},
     "output_type": "execute_result"
    }
   ],
   "source": [
    "len(animal_list)"
   ]
  },
  {
   "cell_type": "code",
   "execution_count": 23,
   "id": "6bccabfc",
   "metadata": {},
   "outputs": [],
   "source": [
    "animal_set = set(animal_list)"
   ]
  },
  {
   "cell_type": "code",
   "execution_count": 24,
   "id": "2029a8de",
   "metadata": {},
   "outputs": [
    {
     "data": {
      "text/plain": [
       "{'bird', 'cow', 'dog', 'goat', 'horse', 'sheep'}"
      ]
     },
     "execution_count": 24,
     "metadata": {},
     "output_type": "execute_result"
    }
   ],
   "source": [
    "animal_set"
   ]
  },
  {
   "cell_type": "code",
   "execution_count": 25,
   "id": "70f18101",
   "metadata": {},
   "outputs": [
    {
     "data": {
      "text/plain": [
       "6"
      ]
     },
     "execution_count": 25,
     "metadata": {},
     "output_type": "execute_result"
    }
   ],
   "source": [
    "len(animal_set)"
   ]
  },
  {
   "cell_type": "markdown",
   "id": "113c9970",
   "metadata": {},
   "source": [
    "### Q4\n",
    "\n",
    "Given a list:\n",
    "\n",
    "suitcase = [\"sunglasses\", \"hat\", \"passport\", \"laptop\", \"suit\", \"shoes\"]\n",
    "\n",
    "a. Create a list called first containing only the two first items from suitcase.\n",
    "\n",
    "b. Create a list called middle containing only the two middle items from suitcase.\n",
    "\n",
    "c. Create a list called last made up only of the last two items from suitcase."
   ]
  },
  {
   "cell_type": "code",
   "execution_count": 29,
   "id": "54a6d71f",
   "metadata": {},
   "outputs": [
    {
     "data": {
      "text/plain": [
       "['sunglasses', 'hat', 'passport', 'laptop', 'suit', 'shoes']"
      ]
     },
     "execution_count": 29,
     "metadata": {},
     "output_type": "execute_result"
    }
   ],
   "source": [
    "suitcase = [\"sunglasses\", \"hat\", \"passport\", \"laptop\", \"suit\", \"shoes\"]\n",
    "suitcase"
   ]
  },
  {
   "cell_type": "code",
   "execution_count": 28,
   "id": "77382904",
   "metadata": {},
   "outputs": [
    {
     "data": {
      "text/plain": [
       "['sunglasses', 'hat']"
      ]
     },
     "execution_count": 28,
     "metadata": {},
     "output_type": "execute_result"
    }
   ],
   "source": [
    "first = [\"sunglasses\", \"hat\"]\n",
    "first"
   ]
  },
  {
   "cell_type": "code",
   "execution_count": 31,
   "id": "347bb5e4",
   "metadata": {},
   "outputs": [
    {
     "data": {
      "text/plain": [
       "['passport', 'laptop']"
      ]
     },
     "execution_count": 31,
     "metadata": {},
     "output_type": "execute_result"
    }
   ],
   "source": [
    "middle = [\"passport\", \"laptop\"]\n",
    "middle"
   ]
  },
  {
   "cell_type": "code",
   "execution_count": 33,
   "id": "bacd8538",
   "metadata": {},
   "outputs": [
    {
     "data": {
      "text/plain": [
       "['suit', 'shoes']"
      ]
     },
     "execution_count": 33,
     "metadata": {},
     "output_type": "execute_result"
    }
   ],
   "source": [
    "last = [\"suit\", \"shoes\"]\n",
    "last"
   ]
  },
  {
   "cell_type": "markdown",
   "id": "711ba044",
   "metadata": {},
   "source": [
    "### Q5\n",
    "Write a python code to insert 35 into the list below. Make sure it is inserted in the right position to maintain the order of the data.\n",
    "\n",
    "`values = [20,25,30,40,45,50,55,60,65,70]`"
   ]
  },
  {
   "cell_type": "code",
   "execution_count": 34,
   "id": "5b451d2d",
   "metadata": {},
   "outputs": [],
   "source": [
    "values = [20,25,30,40,45,50,55,60,65,70]"
   ]
  },
  {
   "cell_type": "code",
   "execution_count": 39,
   "id": "1247e87e",
   "metadata": {},
   "outputs": [
    {
     "data": {
      "text/plain": [
       "[20, 25, 30, 35, 40, 45, 50, 55, 60, 65, 70]"
      ]
     },
     "execution_count": 39,
     "metadata": {},
     "output_type": "execute_result"
    }
   ],
   "source": [
    "values.insert(3,35)\n",
    "values"
   ]
  },
  {
   "cell_type": "markdown",
   "id": "f535cf64",
   "metadata": {},
   "source": [
    "### Q6\n",
    "\n",
    "Given that Python lists and Python tuples are quite similar – when might you prefer to use a tuple over a list?"
   ]
  },
  {
   "cell_type": "markdown",
   "id": "241ad466",
   "metadata": {},
   "source": [
    "### Lists are used when we will make changes to items in the list, and tuples are used when we will not make changes to the items."
   ]
  },
  {
   "cell_type": "markdown",
   "id": "346927f6",
   "metadata": {},
   "source": [
    "### Q7\n",
    "Create a dictionary with 5 Ghana regions and their capitals and store it in the variable `region_capital`\n",
    "\n",
    "- Print out the keys of region_capital\n",
    "- Print out the values of region_capital\n"
   ]
  },
  {
   "cell_type": "code",
   "execution_count": 41,
   "id": "33a02a89",
   "metadata": {},
   "outputs": [
    {
     "data": {
      "text/plain": [
       "{'GREATER ACCRA': 'Accra',\n",
       " 'CENTRAL': 'Cape Coast',\n",
       " 'ASHANTI': 'Kumasi',\n",
       " 'EASTERN': 'Koforidua',\n",
       " 'BONO': 'Sunyani'}"
      ]
     },
     "execution_count": 41,
     "metadata": {},
     "output_type": "execute_result"
    }
   ],
   "source": [
    "region_capital = {\"GREATER ACCRA\":\"Accra\",\n",
    "                  \"CENTRAL\": \"Cape Coast\",\n",
    "                  \"ASHANTI\": \"Kumasi\",\n",
    "                  \"EASTERN\": \"Koforidua\",\n",
    "                  \"BONO\": \"Sunyani\"}\n",
    "region_capital"
   ]
  },
  {
   "cell_type": "code",
   "execution_count": 42,
   "id": "cbca8048",
   "metadata": {},
   "outputs": [
    {
     "data": {
      "text/plain": [
       "dict_keys(['GREATER ACCRA', 'CENTRAL', 'ASHANTI', 'EASTERN', 'BONO'])"
      ]
     },
     "execution_count": 42,
     "metadata": {},
     "output_type": "execute_result"
    }
   ],
   "source": [
    "region_capital.keys()"
   ]
  },
  {
   "cell_type": "code",
   "execution_count": 43,
   "id": "d2435a7f",
   "metadata": {},
   "outputs": [
    {
     "data": {
      "text/plain": [
       "dict_values(['Accra', 'Cape Coast', 'Kumasi', 'Koforidua', 'Sunyani'])"
      ]
     },
     "execution_count": 43,
     "metadata": {},
     "output_type": "execute_result"
    }
   ],
   "source": [
    "region_capital.values()"
   ]
  },
  {
   "cell_type": "markdown",
   "id": "70526b3b",
   "metadata": {},
   "source": [
    "### Q8\n",
    "\n",
    "`values = [3,4,5,6,3,4,3,5,2,4,2,5,6,1,6]`\n",
    "\n",
    "Using the codes above answer the following questions:\n",
    "- What is the total number of elements in values?\n",
    "- What is the highest occuring number in the values variable?\n",
    "- Convert values into a set and store it into a variable named `values_set`\n",
    "- How many elements are in the variable values_set?\n"
   ]
  },
  {
   "cell_type": "code",
   "execution_count": 3,
   "id": "6ac33b16",
   "metadata": {},
   "outputs": [],
   "source": [
    "values = [3,4,5,6,3,4,3,5,2,4,2,5,6,1,6,3]"
   ]
  },
  {
   "cell_type": "code",
   "execution_count": 4,
   "id": "a8f9451d",
   "metadata": {},
   "outputs": [
    {
     "data": {
      "text/plain": [
       "62"
      ]
     },
     "execution_count": 4,
     "metadata": {},
     "output_type": "execute_result"
    }
   ],
   "source": [
    "sum(values)"
   ]
  },
  {
   "cell_type": "code",
   "execution_count": 5,
   "id": "395050ec",
   "metadata": {},
   "outputs": [
    {
     "name": "stdout",
     "output_type": "stream",
     "text": [
      "3\n"
     ]
    }
   ],
   "source": [
    "highest_occuring_number = {}\n",
    "for value in values:\n",
    "    highest_occuring_number[value] = values.count(value)\n",
    "    \n",
    "max_value = max(highest_occuring_number.values())\n",
    "print(highest_occuring_number.get(max_value))\n"
   ]
  },
  {
   "cell_type": "code",
   "execution_count": 59,
   "id": "a4342304",
   "metadata": {},
   "outputs": [
    {
     "data": {
      "text/plain": [
       "{1, 2, 3, 4, 5, 6}"
      ]
     },
     "execution_count": 59,
     "metadata": {},
     "output_type": "execute_result"
    }
   ],
   "source": [
    "values_set = set(values)\n",
    "values_set"
   ]
  },
  {
   "cell_type": "code",
   "execution_count": 48,
   "id": "5ee6147a",
   "metadata": {},
   "outputs": [
    {
     "data": {
      "text/plain": [
       "6"
      ]
     },
     "execution_count": 48,
     "metadata": {},
     "output_type": "execute_result"
    }
   ],
   "source": [
    "len(values_set)"
   ]
  },
  {
   "cell_type": "markdown",
   "id": "801d5876",
   "metadata": {},
   "source": [
    "### Q9\n",
    "Write a Python script to print a dictionary where the keys are numbers between 1 and 15 (both included) and the values are the square of the keys."
   ]
  },
  {
   "cell_type": "code",
   "execution_count": 56,
   "id": "1a87cfe3",
   "metadata": {},
   "outputs": [
    {
     "data": {
      "text/plain": [
       "{1: 1,\n",
       " 2: 4,\n",
       " 3: 9,\n",
       " 4: 16,\n",
       " 5: 25,\n",
       " 6: 36,\n",
       " 7: 49,\n",
       " 8: 64,\n",
       " 9: 81,\n",
       " 10: 100,\n",
       " 11: 121,\n",
       " 12: 144,\n",
       " 13: 169,\n",
       " 14: 196,\n",
       " 15: 225}"
      ]
     },
     "execution_count": 56,
     "metadata": {},
     "output_type": "execute_result"
    }
   ],
   "source": [
    "dictionary = {}\n",
    "\n",
    "for i in range(1,16):\n",
    "    dictionary[i] = i**2\n",
    "    \n",
    "dictionary"
   ]
  },
  {
   "cell_type": "markdown",
   "id": "18954e57",
   "metadata": {},
   "source": [
    "### Q10\n",
    "Write a Python program to create a dictionary of keys x, y, and z where each key has as value a list from 11-20, 21-30, and 31-40 respectively. Access the fifth value of each key from the dictionary."
   ]
  },
  {
   "cell_type": "code",
   "execution_count": 8,
   "id": "fec19820",
   "metadata": {},
   "outputs": [
    {
     "name": "stdout",
     "output_type": "stream",
     "text": [
      "x: 15\n",
      "y: 25\n",
      "z: 35\n"
     ]
    }
   ],
   "source": [
    "keys = [\"x\",\"y\",\"z\"]\n",
    "\n",
    "d = {}\n",
    "for key in keys:\n",
    "    if key == \"x\":\n",
    "        d[key] = list(range(11,21))\n",
    "    elif key == \"y\":\n",
    "        d[key] = list(range(21,31))\n",
    "    else:\n",
    "        d[key] = list(range(31,40))\n",
    "        \n",
    "for key in keys:\n",
    "    print(f\"{key}: {d[key][4]}\")"
   ]
  },
  {
   "cell_type": "code",
   "execution_count": null,
   "id": "e57f843c",
   "metadata": {},
   "outputs": [],
   "source": []
  }
 ],
 "metadata": {
  "kernelspec": {
   "display_name": "Python 3 (ipykernel)",
   "language": "python",
   "name": "python3"
  },
  "language_info": {
   "codemirror_mode": {
    "name": "ipython",
    "version": 3
   },
   "file_extension": ".py",
   "mimetype": "text/x-python",
   "name": "python",
   "nbconvert_exporter": "python",
   "pygments_lexer": "ipython3",
   "version": "3.9.13"
  }
 },
 "nbformat": 4,
 "nbformat_minor": 5
}
