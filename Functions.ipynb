{
 "cells": [
  {
   "cell_type": "markdown",
   "id": "352dd2e3",
   "metadata": {},
   "source": [
    "### Q1\n",
    "\n",
    "Define a python function that calculate the perimeter of the rectangle\n",
    "\n",
    "Formular\n",
    "\n",
    "formular => 2 X length + 2 X Width"
   ]
  },
  {
   "cell_type": "code",
   "execution_count": 2,
   "id": "d38128a2",
   "metadata": {},
   "outputs": [
    {
     "data": {
      "text/plain": [
       "24"
      ]
     },
     "execution_count": 2,
     "metadata": {},
     "output_type": "execute_result"
    }
   ],
   "source": [
    "def perimeter(length, width):\n",
    "    return 2 * length * width\n",
    "\n",
    "perimeter(3,4)"
   ]
  },
  {
   "cell_type": "markdown",
   "id": "a56ccec8",
   "metadata": {},
   "source": [
    "### Q2\n",
    "Define the function to calculate the area of a circle. Round the answer to 3 decimal places.\n",
    "\n",
    "**Preamble**\n",
    " - Take pi as 22/7\n",
    " - formular pi x r ** 2"
   ]
  },
  {
   "cell_type": "code",
   "execution_count": 4,
   "id": "b0d4c5ed",
   "metadata": {},
   "outputs": [
    {
     "data": {
      "text/plain": [
       "314.2857142857143"
      ]
     },
     "execution_count": 4,
     "metadata": {},
     "output_type": "execute_result"
    }
   ],
   "source": [
    "PI = 22/7\n",
    "\n",
    "def circle_area(radius):\n",
    "    return PI * (radius ** 2)\n",
    "\n",
    "circle_area(10)"
   ]
  },
  {
   "cell_type": "markdown",
   "id": "be5a6965",
   "metadata": {},
   "source": [
    "### Q3\n",
    "Define a function that takes a list of numbers and print out the **mean**, **median** and **mode**.\n",
    "\n",
    "- Test your function with the list b\n",
    "\n",
    "`b = [2,3,4,6,7,3,4,3,2,1,3]`"
   ]
  },
  {
   "cell_type": "code",
   "execution_count": 8,
   "id": "bb61512f",
   "metadata": {},
   "outputs": [
    {
     "name": "stdout",
     "output_type": "stream",
     "text": [
      "Mean: 3.45\n",
      "Median: 3\n",
      "Mode: 3\n"
     ]
    }
   ],
   "source": [
    "b = [2,3,4,6,7,3,4,3,2,1,3]\n",
    "\n",
    "def statistics(numbers):\n",
    "    # MEAN\n",
    "    mean = sum(numbers) / len(numbers)\n",
    "\n",
    "    \n",
    "    # MEDIAN\n",
    "    sorted_numbers = sorted(numbers)    \n",
    "    if len(sorted_numbers) % 2 == 0:\n",
    "        mid_index = len(sorted_numbers) // 2\n",
    "        median = (sorted_numbers[mid_index - 1] + sorted_numbers[mid_index]) / 2\n",
    "    else:\n",
    "        median = sorted_numbers[len(sorted_numbers) // 2]\n",
    "\n",
    "    # MODE\n",
    "    counts = {}\n",
    "    for num in numbers:\n",
    "        counts[num] = counts.get(num, 0) + 1\n",
    "        \n",
    "    mode = max(counts, key=counts.get)\n",
    "\n",
    "    # Print results\n",
    "    print(f\"Mean: {mean:.2f}\")\n",
    "    print(f\"Median: {median}\")\n",
    "    print(f\"Mode: {mode}\")\n",
    "\n",
    "statistics(b)"
   ]
  },
  {
   "cell_type": "markdown",
   "id": "3313ab10",
   "metadata": {},
   "source": [
    "### Q4\n",
    "Define a function that prints out the list of the first 20 prime numbers"
   ]
  },
  {
   "cell_type": "code",
   "execution_count": 36,
   "id": "eeb15fef",
   "metadata": {},
   "outputs": [
    {
     "name": "stdout",
     "output_type": "stream",
     "text": [
      "2\n",
      "3\n",
      "5\n",
      "7\n",
      "11\n",
      "13\n",
      "17\n",
      "19\n",
      "23\n",
      "29\n",
      "31\n",
      "37\n",
      "41\n",
      "43\n",
      "47\n",
      "53\n",
      "59\n",
      "61\n",
      "67\n",
      "71\n"
     ]
    }
   ],
   "source": [
    "def is_prime(n):\n",
    "    if (n <= 1):\n",
    "        return False\n",
    "    \n",
    "    if (n <= 3):\n",
    "        return True\n",
    "    if (n % 2 == 0 or n % 3 == 0):\n",
    "        return False\n",
    "    i = 5\n",
    "    while(i * i <= n):\n",
    "        if (n % i == 0 or n % (i + 2) == 0):\n",
    "            return False\n",
    "        i = i + 6\n",
    "    return True\n",
    "\n",
    "\n",
    "    \n",
    "def prime_numbers():\n",
    "    prime_counter = 0\n",
    "    \n",
    "    number = 1\n",
    "    while True:\n",
    "        if prime_counter == 20:\n",
    "            break        \n",
    "        \n",
    "        if is_prime(number):\n",
    "            print(number)\n",
    "            prime_counter += 1\n",
    "        \n",
    "        number += 1\n",
    "        \n",
    "        \n",
    "prime_numbers()"
   ]
  },
  {
   "cell_type": "markdown",
   "id": "ef1c5863",
   "metadata": {},
   "source": [
    "#### Q5\n",
    "Define a function that takes a list of strings and print out the string and the length of the string.\n",
    "\n",
    "**Example of expected output**\n",
    "\n",
    "{\"Kofi\":4,\n",
    "\"Ama\":3,\n",
    "\"Sedem\":5}"
   ]
  },
  {
   "cell_type": "code",
   "execution_count": 39,
   "id": "58c0305a",
   "metadata": {},
   "outputs": [
    {
     "data": {
      "text/plain": [
       "{'Kofi': 4, 'Ama': 3, 'Sedem': 5}"
      ]
     },
     "execution_count": 39,
     "metadata": {},
     "output_type": "execute_result"
    }
   ],
   "source": [
    "def word_lengths(words):\n",
    "    ans = {}\n",
    "    \n",
    "    for word in words:\n",
    "        ans[word.capitalize()] = len(word)\n",
    "    \n",
    "    return ans\n",
    "\n",
    "word_lengths([\"kofi\", \"ama\", \"Sedem\"])"
   ]
  },
  {
   "cell_type": "markdown",
   "id": "5072c8d8",
   "metadata": {},
   "source": [
    "### Q6\n",
    "Define a function that takes a list of strings and numbers and print out only the strings and the position of the strings.\n",
    "\n",
    "**Preamble**\n",
    "\n",
    "names = ['sedem', 'Kofi', 'kobla']\n",
    "\n",
    "**Expected Output**\n",
    "\n",
    "{'sedem': P0, 'Kofi': P1, 'kobla': P2}"
   ]
  },
  {
   "cell_type": "code",
   "execution_count": 41,
   "id": "e831c270",
   "metadata": {},
   "outputs": [
    {
     "data": {
      "text/plain": [
       "{'sedem': 'P0', 'Kofi': 'P1', 'kobla': 'P2'}"
      ]
     },
     "execution_count": 41,
     "metadata": {},
     "output_type": "execute_result"
    }
   ],
   "source": [
    "def string_positions(items):\n",
    "    ans = {}\n",
    "    \n",
    "    for item in items:\n",
    "        if type(item) == str:\n",
    "            ans[item] = \"P\" + str(items.index(item))\n",
    "            \n",
    "    return ans\n",
    "\n",
    "string_positions(['sedem', 'Kofi', 'kobla'])"
   ]
  },
  {
   "cell_type": "markdown",
   "id": "5593b665",
   "metadata": {},
   "source": [
    "### Q7\n",
    "Define a function that returns whether the sum of a person age and person's date of birth equals 2023\n",
    "\n",
    "**Preamble**\n",
    "\n",
    "2001 + 22 => True\n",
    "\n",
    "2002 + 5 => False"
   ]
  },
  {
   "cell_type": "code",
   "execution_count": 43,
   "id": "be595b1c",
   "metadata": {},
   "outputs": [
    {
     "data": {
      "text/plain": [
       "False"
      ]
     },
     "execution_count": 43,
     "metadata": {},
     "output_type": "execute_result"
    }
   ],
   "source": [
    "def sum_age_date(date, age):\n",
    "    return date + age == 2023\n",
    "\n",
    "sum_age_date(2001, 22)\n",
    "sum_age_date(2002, 5)"
   ]
  },
  {
   "cell_type": "markdown",
   "id": "f831e652",
   "metadata": {},
   "source": [
    "### Q8\n",
    "Define a function that determine whether a particular year is a **decade**, the output should be a boolean (True or False)\n"
   ]
  },
  {
   "cell_type": "code",
   "execution_count": 46,
   "id": "d6d015e5",
   "metadata": {},
   "outputs": [
    {
     "data": {
      "text/plain": [
       "True"
      ]
     },
     "execution_count": 46,
     "metadata": {},
     "output_type": "execute_result"
    }
   ],
   "source": [
    "# NOT TOO CLEAR\n",
    "def is_decade(year):\n",
    "    return year % 10 == 0\n",
    "\n",
    "is_decade(2020)"
   ]
  },
  {
   "cell_type": "markdown",
   "id": "211c19e3",
   "metadata": {},
   "source": [
    "### Q9\n",
    "Define a function that contains a list of strings and punctuations,the output should on return the list of punctuations.\n"
   ]
  },
  {
   "cell_type": "code",
   "execution_count": 51,
   "id": "c6d88359",
   "metadata": {},
   "outputs": [
    {
     "data": {
      "text/plain": [
       "['.', ',']"
      ]
     },
     "execution_count": 51,
     "metadata": {},
     "output_type": "execute_result"
    }
   ],
   "source": [
    "import string\n",
    "\n",
    "def find_punctuations(list_str):\n",
    "    ans = []\n",
    "    for x in list_str:\n",
    "        if x in string.punctuation:\n",
    "            ans.append(x)\n",
    "    return ans\n",
    "\n",
    "find_punctuations([\"hello\", \".\", \"there\", \",\"])"
   ]
  },
  {
   "cell_type": "markdown",
   "id": "34bae9ec",
   "metadata": {},
   "source": [
    "### Q10\n",
    "\n",
    "Define a lambda function that print out the cubic root of a list of numbers"
   ]
  },
  {
   "cell_type": "code",
   "execution_count": 22,
   "id": "e6733ca0",
   "metadata": {},
   "outputs": [
    {
     "data": {
      "text/plain": [
       "[2.0, 3.9999999999999996]"
      ]
     },
     "execution_count": 22,
     "metadata": {},
     "output_type": "execute_result"
    }
   ],
   "source": [
    "cube_root_list = lambda lst: [num**(1/3) for num in lst]\n",
    "\n",
    "cube_root_list([8, 64])"
   ]
  },
  {
   "cell_type": "markdown",
   "id": "37974632",
   "metadata": {},
   "source": [
    "### Q11\n",
    "Define a lambda function that print out the cube of a list of numbers"
   ]
  },
  {
   "cell_type": "code",
   "execution_count": 17,
   "id": "39152cf6",
   "metadata": {},
   "outputs": [
    {
     "data": {
      "text/plain": [
       "[8, 64, 512]"
      ]
     },
     "execution_count": 17,
     "metadata": {},
     "output_type": "execute_result"
    }
   ],
   "source": [
    "cube_list = lambda lst: [num**3 for num in lst]\n",
    "\n",
    "cube_list([2, 4, 8])"
   ]
  },
  {
   "cell_type": "markdown",
   "id": "b1522dbb",
   "metadata": {},
   "source": [
    "### Q12\n",
    "Define a function that take a list of list of numbers and return a list that contains the average of each sublist using map."
   ]
  },
  {
   "cell_type": "code",
   "execution_count": 3,
   "id": "a77bf6d8",
   "metadata": {},
   "outputs": [
    {
     "data": {
      "text/plain": [
       "[3.0, 7.5]"
      ]
     },
     "execution_count": 3,
     "metadata": {},
     "output_type": "execute_result"
    }
   ],
   "source": [
    "def find_average(list_of_list):\n",
    "    return list(map(lambda numbers: sum(numbers) / len(numbers), list_of_list))\n",
    "    \n",
    "find_average([[1,2,3,4,5], [6,7,8,9]])"
   ]
  },
  {
   "cell_type": "markdown",
   "id": "0fd5cd06",
   "metadata": {},
   "source": [
    "### Q13\n",
    "Define a function that takes a list of strings and filter out strings that are upper case."
   ]
  },
  {
   "cell_type": "code",
   "execution_count": 5,
   "id": "de0134c7",
   "metadata": {},
   "outputs": [
    {
     "data": {
      "text/plain": [
       "['EDNA', 'BEN']"
      ]
     },
     "execution_count": 5,
     "metadata": {},
     "output_type": "execute_result"
    }
   ],
   "source": [
    "def filter_upper(str_list):\n",
    "    return list(filter(lambda item: item.isupper(), str_list))\n",
    "    \n",
    "filter_upper([\"EDNA\", \"kofi\", \"ama\", \"BEN\"])"
   ]
  },
  {
   "cell_type": "markdown",
   "id": "d0dddd17",
   "metadata": {},
   "source": [
    "### Q14\n",
    "Define a function that takes a list of numbers and print out the numbers which are prime in the list."
   ]
  },
  {
   "cell_type": "code",
   "execution_count": 6,
   "id": "1b018c8e",
   "metadata": {},
   "outputs": [
    {
     "name": "stdout",
     "output_type": "stream",
     "text": [
      "2\n",
      "5\n"
     ]
    }
   ],
   "source": [
    "def is_prime(n):\n",
    "    if (n <= 1):\n",
    "        return False\n",
    "    \n",
    "    if (n <= 3):\n",
    "        return True\n",
    "    if (n % 2 == 0 or n % 3 == 0):\n",
    "        return False\n",
    "    i = 5\n",
    "    while(i * i <= n):\n",
    "        if (n % i == 0 or n % (i + 2) == 0):\n",
    "            return False\n",
    "        i = i + 6\n",
    "    return True\n",
    "\n",
    "def print_prime(numbers):\n",
    "    for num in numbers:\n",
    "        if is_prime(num):\n",
    "            print(num)\n",
    "    \n",
    "print_prime([2,5,6,9,20,21])"
   ]
  },
  {
   "cell_type": "markdown",
   "id": "240741dc",
   "metadata": {},
   "source": [
    "### Q15\n",
    "Define a function that take a list of strings and return a zip of each string and length of a string."
   ]
  },
  {
   "cell_type": "code",
   "execution_count": 10,
   "id": "50bce891",
   "metadata": {},
   "outputs": [
    {
     "name": "stdout",
     "output_type": "stream",
     "text": [
      "('kofi', 4)\n",
      "('today', 5)\n",
      "('Friday', 6)\n",
      "('Blossom', 7)\n"
     ]
    }
   ],
   "source": [
    "def zip_string(str_list):\n",
    "    lengths = map(lambda item: len(item), str_list)\n",
    "    \n",
    "    for item in zip(str_list, lengths):\n",
    "        print(f\"{item}\")\n",
    "        \n",
    "zip_string([\"kofi\", \"today\", \"Friday\", \"Blossom\"])"
   ]
  },
  {
   "cell_type": "markdown",
   "id": "44a1339f",
   "metadata": {},
   "source": [
    "### Q16\n",
    "Define a function that takes in a number and return the first 12 multiples of the the number.\n",
    "\n",
    "Expected Output\n",
    "\n",
    "2 X 1 = 2\n",
    "\n",
    "to\n",
    "\n",
    "2 X 12 = 24"
   ]
  },
  {
   "cell_type": "code",
   "execution_count": 11,
   "id": "fb0fce80",
   "metadata": {},
   "outputs": [
    {
     "name": "stdout",
     "output_type": "stream",
     "text": [
      "2 x 1 = 2\n",
      "2 x 2 = 4\n",
      "2 x 3 = 6\n",
      "2 x 4 = 8\n",
      "2 x 5 = 10\n",
      "2 x 6 = 12\n",
      "2 x 7 = 14\n",
      "2 x 8 = 16\n",
      "2 x 9 = 18\n",
      "2 x 10 = 20\n",
      "2 x 11 = 22\n",
      "2 x 12 = 24\n"
     ]
    }
   ],
   "source": [
    "def print_multiples(num):\n",
    "    for x in range(1, 13):\n",
    "        print(f\"{num} x {x} = {x*num}\")\n",
    "\n",
    "print_multiples(2)"
   ]
  },
  {
   "cell_type": "markdown",
   "id": "cd63dd99",
   "metadata": {},
   "source": [
    "### Q17\n",
    "Write a Python function to find the maximum of three numbers.\n",
    "\n",
    "**Do not use the max function**"
   ]
  },
  {
   "cell_type": "code",
   "execution_count": 12,
   "id": "db27119e",
   "metadata": {},
   "outputs": [
    {
     "data": {
      "text/plain": [
       "20"
      ]
     },
     "execution_count": 12,
     "metadata": {},
     "output_type": "execute_result"
    }
   ],
   "source": [
    "def find_max(numbers):    \n",
    "    maximum = numbers[0]\n",
    "    \n",
    "    for num in numbers:\n",
    "        if num > maximum:\n",
    "            maximum = num\n",
    "    return maximum\n",
    "\n",
    "find_max([20,12,5])"
   ]
  },
  {
   "cell_type": "markdown",
   "id": "67520c0b",
   "metadata": {},
   "source": [
    "### Q18\n",
    "Write a Python function to multiply all the numbers in a list."
   ]
  },
  {
   "cell_type": "code",
   "execution_count": 14,
   "id": "b408f857",
   "metadata": {},
   "outputs": [
    {
     "name": "stdout",
     "output_type": "stream",
     "text": [
      "4\n",
      "8\n",
      "10\n",
      "8\n",
      "16\n",
      "20\n",
      "10\n",
      "20\n",
      "25\n"
     ]
    }
   ],
   "source": [
    "def mul_numbers(numbers):\n",
    "    for x in numbers:\n",
    "        for y in numbers:\n",
    "            print(x * y)\n",
    "\n",
    "mul_numbers([2,4,5])"
   ]
  },
  {
   "cell_type": "markdown",
   "id": "05891582",
   "metadata": {},
   "source": [
    "### Q19\n",
    "Write a Python program to reverse a string"
   ]
  },
  {
   "cell_type": "code",
   "execution_count": 1,
   "id": "6aa1b9da",
   "metadata": {},
   "outputs": [
    {
     "data": {
      "text/plain": [
       "'mossolb'"
      ]
     },
     "execution_count": 1,
     "metadata": {},
     "output_type": "execute_result"
    }
   ],
   "source": [
    "def reverse_str(string):\n",
    "    ans = \"\"\n",
    "    for char in string:\n",
    "        ans = char + ans\n",
    "    return ans\n",
    "\n",
    "reverse_str(\"blossom\")"
   ]
  },
  {
   "cell_type": "markdown",
   "id": "b9025ac8",
   "metadata": {},
   "source": [
    "### Q20\n",
    "Write a python function to return the length of a string."
   ]
  },
  {
   "cell_type": "code",
   "execution_count": 16,
   "id": "0c67e0e3",
   "metadata": {},
   "outputs": [
    {
     "data": {
      "text/plain": [
       "7"
      ]
     },
     "execution_count": 16,
     "metadata": {},
     "output_type": "execute_result"
    }
   ],
   "source": [
    "def str_length(string):\n",
    "    return len(string)\n",
    "\n",
    "str_length(\"Blossom\")"
   ]
  },
  {
   "cell_type": "markdown",
   "id": "8d1ee176",
   "metadata": {},
   "source": [
    "Have a lovely coding weekend"
   ]
  }
 ],
 "metadata": {
  "kernelspec": {
   "display_name": "Python 3 (ipykernel)",
   "language": "python",
   "name": "python3"
  },
  "language_info": {
   "codemirror_mode": {
    "name": "ipython",
    "version": 3
   },
   "file_extension": ".py",
   "mimetype": "text/x-python",
   "name": "python",
   "nbconvert_exporter": "python",
   "pygments_lexer": "ipython3",
   "version": "3.8.10"
  }
 },
 "nbformat": 4,
 "nbformat_minor": 5
}
